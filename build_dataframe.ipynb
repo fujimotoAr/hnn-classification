{
 "cells": [
  {
   "cell_type": "code",
   "execution_count": 1,
   "metadata": {},
   "outputs": [],
   "source": [
    "import os\n",
    "import pandas as pd"
   ]
  },
  {
   "cell_type": "code",
   "execution_count": 2,
   "metadata": {},
   "outputs": [],
   "source": [
    "def build_df():\n",
    "    path_list=[]\n",
    "    fine_list=[]\n",
    "    coarse_list=[]\n",
    "    \n",
    "    for dir, subdir, files in os.walk('./split'):\n",
    "        if len(files)>0:\n",
    "            for f in files:\n",
    "                if dir.split('/').__contains__('val'):\n",
    "                    path=os.path.join(dir,f)\n",
    "                    fine=dir.split('/')[-1]\n",
    "                    coarse=dir.split('/')[-3]\n",
    "                    path_list.append(path)\n",
    "                    fine_list.append(fine)\n",
    "                    coarse_list.append(coarse)\n",
    "\n",
    "    dictionary={\n",
    "        \"file_path\": path_list,\n",
    "        \"fine_label\": fine_list,\n",
    "        \"coarse_label\": coarse_list\n",
    "    }\n",
    "\n",
    "    df=pd.DataFrame.from_dict(dictionary)\n",
    "    return df"
   ]
  },
  {
   "cell_type": "code",
   "execution_count": 3,
   "metadata": {},
   "outputs": [],
   "source": [
    "df=build_df()"
   ]
  },
  {
   "cell_type": "code",
   "execution_count": 5,
   "metadata": {},
   "outputs": [
    {
     "data": {
      "text/html": [
       "<div>\n",
       "<style scoped>\n",
       "    .dataframe tbody tr th:only-of-type {\n",
       "        vertical-align: middle;\n",
       "    }\n",
       "\n",
       "    .dataframe tbody tr th {\n",
       "        vertical-align: top;\n",
       "    }\n",
       "\n",
       "    .dataframe thead th {\n",
       "        text-align: right;\n",
       "    }\n",
       "</style>\n",
       "<table border=\"1\" class=\"dataframe\">\n",
       "  <thead>\n",
       "    <tr style=\"text-align: right;\">\n",
       "      <th></th>\n",
       "      <th>file_path</th>\n",
       "      <th>fine_label</th>\n",
       "      <th>coarse_label</th>\n",
       "    </tr>\n",
       "  </thead>\n",
       "  <tbody>\n",
       "    <tr>\n",
       "      <th>0</th>\n",
       "      <td>./split/aquatic_mammals/val/otter/river_otter_...</td>\n",
       "      <td>otter</td>\n",
       "      <td>aquatic_mammals</td>\n",
       "    </tr>\n",
       "    <tr>\n",
       "      <th>1</th>\n",
       "      <td>./split/aquatic_mammals/val/otter/river_otter_...</td>\n",
       "      <td>otter</td>\n",
       "      <td>aquatic_mammals</td>\n",
       "    </tr>\n",
       "    <tr>\n",
       "      <th>2</th>\n",
       "      <td>./split/aquatic_mammals/val/otter/river_otter_...</td>\n",
       "      <td>otter</td>\n",
       "      <td>aquatic_mammals</td>\n",
       "    </tr>\n",
       "    <tr>\n",
       "      <th>3</th>\n",
       "      <td>./split/aquatic_mammals/val/otter/river_otter_...</td>\n",
       "      <td>otter</td>\n",
       "      <td>aquatic_mammals</td>\n",
       "    </tr>\n",
       "    <tr>\n",
       "      <th>4</th>\n",
       "      <td>./split/aquatic_mammals/val/otter/river_otter_...</td>\n",
       "      <td>otter</td>\n",
       "      <td>aquatic_mammals</td>\n",
       "    </tr>\n",
       "    <tr>\n",
       "      <th>...</th>\n",
       "      <td>...</td>\n",
       "      <td>...</td>\n",
       "      <td>...</td>\n",
       "    </tr>\n",
       "    <tr>\n",
       "      <th>5995</th>\n",
       "      <td>./split/small_mammals/val/mouse/house_mouse_s_...</td>\n",
       "      <td>mouse</td>\n",
       "      <td>small_mammals</td>\n",
       "    </tr>\n",
       "    <tr>\n",
       "      <th>5996</th>\n",
       "      <td>./split/small_mammals/val/mouse/harvest_mouse_...</td>\n",
       "      <td>mouse</td>\n",
       "      <td>small_mammals</td>\n",
       "    </tr>\n",
       "    <tr>\n",
       "      <th>5997</th>\n",
       "      <td>./split/small_mammals/val/mouse/mus_musculus_s...</td>\n",
       "      <td>mouse</td>\n",
       "      <td>small_mammals</td>\n",
       "    </tr>\n",
       "    <tr>\n",
       "      <th>5998</th>\n",
       "      <td>./split/small_mammals/val/mouse/mouse_s_000655...</td>\n",
       "      <td>mouse</td>\n",
       "      <td>small_mammals</td>\n",
       "    </tr>\n",
       "    <tr>\n",
       "      <th>5999</th>\n",
       "      <td>./split/small_mammals/val/mouse/mus_musculus_s...</td>\n",
       "      <td>mouse</td>\n",
       "      <td>small_mammals</td>\n",
       "    </tr>\n",
       "  </tbody>\n",
       "</table>\n",
       "<p>6000 rows × 3 columns</p>\n",
       "</div>"
      ],
      "text/plain": [
       "                                              file_path fine_label  \\\n",
       "0     ./split/aquatic_mammals/val/otter/river_otter_...      otter   \n",
       "1     ./split/aquatic_mammals/val/otter/river_otter_...      otter   \n",
       "2     ./split/aquatic_mammals/val/otter/river_otter_...      otter   \n",
       "3     ./split/aquatic_mammals/val/otter/river_otter_...      otter   \n",
       "4     ./split/aquatic_mammals/val/otter/river_otter_...      otter   \n",
       "...                                                 ...        ...   \n",
       "5995  ./split/small_mammals/val/mouse/house_mouse_s_...      mouse   \n",
       "5996  ./split/small_mammals/val/mouse/harvest_mouse_...      mouse   \n",
       "5997  ./split/small_mammals/val/mouse/mus_musculus_s...      mouse   \n",
       "5998  ./split/small_mammals/val/mouse/mouse_s_000655...      mouse   \n",
       "5999  ./split/small_mammals/val/mouse/mus_musculus_s...      mouse   \n",
       "\n",
       "         coarse_label  \n",
       "0     aquatic_mammals  \n",
       "1     aquatic_mammals  \n",
       "2     aquatic_mammals  \n",
       "3     aquatic_mammals  \n",
       "4     aquatic_mammals  \n",
       "...               ...  \n",
       "5995    small_mammals  \n",
       "5996    small_mammals  \n",
       "5997    small_mammals  \n",
       "5998    small_mammals  \n",
       "5999    small_mammals  \n",
       "\n",
       "[6000 rows x 3 columns]"
      ]
     },
     "execution_count": 5,
     "metadata": {},
     "output_type": "execute_result"
    }
   ],
   "source": [
    "df"
   ]
  },
  {
   "cell_type": "code",
   "execution_count": null,
   "metadata": {},
   "outputs": [],
   "source": []
  },
  {
   "cell_type": "code",
   "execution_count": 4,
   "metadata": {},
   "outputs": [],
   "source": [
    "df.to_csv(\"validation.csv\")"
   ]
  }
 ],
 "metadata": {
  "kernelspec": {
   "display_name": "Python 3",
   "language": "python",
   "name": "python3"
  },
  "language_info": {
   "codemirror_mode": {
    "name": "ipython",
    "version": 3
   },
   "file_extension": ".py",
   "mimetype": "text/x-python",
   "name": "python",
   "nbconvert_exporter": "python",
   "pygments_lexer": "ipython3",
   "version": "3.11.1"
  },
  "orig_nbformat": 4,
  "vscode": {
   "interpreter": {
    "hash": "e7370f93d1d0cde622a1f8e1c04877d8463912d04d973331ad4851f04de6915a"
   }
  }
 },
 "nbformat": 4,
 "nbformat_minor": 2
}
